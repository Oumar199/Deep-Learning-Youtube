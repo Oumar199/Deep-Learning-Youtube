{
 "cells": [
  {
   "cell_type": "code",
   "execution_count": 2,
   "metadata": {},
   "outputs": [],
   "source": [
    "import numpy as np\n",
    "import matplotlib.pyplot as plt\n",
    "from sklearn.datasets import make_blobs, make_circles\n",
    "from sklearn.metrics import accuracy_score, log_loss\n",
    "from tqdm import tqdm\n",
    "from matplotlib.animation import FuncAnimation"
   ]
  },
  {
   "cell_type": "markdown",
   "metadata": {},
   "source": [
    "# Fonctions"
   ]
  },
  {
   "cell_type": "code",
   "execution_count": 3,
   "metadata": {},
   "outputs": [],
   "source": [
    "def initialisation(dimensions):\n",
    "    parametres = {}\n",
    "    C = len(dimensions)\n",
    "    \n",
    "    for c in range(1, C):\n",
    "        parametres['W' + str(c)] = np.random.randn(dimensions[c], dimensions[c - 1])\n",
    "        parametres['b' + str(c)] = np.random.randn(dimensions[c], 1)\n",
    "\n",
    "    return parametres"
   ]
  },
  {
   "cell_type": "code",
   "execution_count": 14,
   "metadata": {},
   "outputs": [],
   "source": [
    "def forward_propagation(X, parametres):\n",
    "\n",
    "    activations = {'A0': X}\n",
    "    \n",
    "    C = len(parametres) // 2\n",
    "    \n",
    "    for c in range(1, C + 1): \n",
    "        Z = parametres['W' + str(c)].dot(activations['A' + str(c - 1)]) + parametres['b' + str(c)]\n",
    "        activations['A' + str(c)] = 1 / (1 + np.exp(-Z))\n",
    "\n",
    "    return activations"
   ]
  },
  {
   "cell_type": "code",
   "execution_count": 30,
   "metadata": {},
   "outputs": [],
   "source": [
    "def back_propagation(y, activations, parametres):\n",
    "\n",
    "    m = y.shape[1]\n",
    "    C = len(parametres) // 2\n",
    "    \n",
    "    dZ = activations['A' + str(C)] - y\n",
    "    \n",
    "    gradients = {}\n",
    "    \n",
    "    for c in reversed(range(1, C + 1)):\n",
    "        gradients['dW' + str(c)] = 1 / m * np.dot(dZ, activations['A' + str(c - 1)].T)\n",
    "        gradients['db' + str(c)] = 1 / m * np.sum(dZ, axis=1, keepdims=True)\n",
    "        if c > 1:\n",
    "            dZ = np.dot(parametres['W' + str(c)].T, dZ) * activations['A' + str(c - 1)] * (1 - activations['A' + str(c - 1)])\n",
    "    \n",
    "    return gradients"
   ]
  },
  {
   "cell_type": "code",
   "execution_count": 32,
   "metadata": {},
   "outputs": [],
   "source": [
    "def update(gradients, parametres, learning_rate):\n",
    "\n",
    "    C = len(parametres) // 2\n",
    "    \n",
    "    for c in range(1, C + 1):\n",
    "        parametres['W' + str(c)] = parametres['W' + str(c)] - learning_rate * gradients['dW' + str(c)]\n",
    "        parametres['b' + str(c)] = parametres['b' + str(c)] - learning_rate * gradients['db' + str(c)]\n",
    "    return parametres"
   ]
  },
  {
   "cell_type": "code",
   "execution_count": 35,
   "metadata": {},
   "outputs": [],
   "source": [
    "def predict(X, parametres):\n",
    "  C = len(parametres) // 2\n",
    "  activations = forward_propagation(X, parametres)\n",
    "  A = activations['A' + str(C)]\n",
    "  return A >= 0.5"
   ]
  },
  {
   "cell_type": "code",
   "execution_count": 34,
   "metadata": {},
   "outputs": [],
   "source": [
    "def log_loss(y, A):\n",
    "    m = y.shape[1]\n",
    "    epsilon = 1e-15\n",
    "    # print(A.shape, y_train.shape)\n",
    "    return 1 / m * np.sum(-y * np.log(A + epsilon) - (1 - y) * np.log(1 - A + epsilon))"
   ]
  },
  {
   "cell_type": "code",
   "execution_count": 33,
   "metadata": {},
   "outputs": [],
   "source": [
    "def neural_network(X, y, hidden_layers = (32, 32, 32), learning_rate = 0.1, n_iter = 1000):\n",
    "\n",
    "    np.random.seed(0)\n",
    "    \n",
    "    # initialisation W, b\n",
    "    dimensions = list(hidden_layers)\n",
    "    dimensions.insert(0, X.shape[0])\n",
    "    dimensions.append(y.shape[0])\n",
    "    parametres = initialisation(dimensions)\n",
    "\n",
    "    train_loss = []\n",
    "    train_acc = []\n",
    "\n",
    "    # gradient descent\n",
    "    for i in tqdm(range(n_iter)):\n",
    "        activations = forward_propagation(X, parametres)\n",
    "        gradients = back_propagation(y, activations, parametres)\n",
    "        parametres = update(gradients, parametres, learning_rate)\n",
    "\n",
    "        if i%10 == 0:\n",
    "            \n",
    "            C = len(parametres) // 2\n",
    "            train_loss.append(log_loss(y, activations['A' + str(C)]))\n",
    "            y_pred = predict(X, parametres)\n",
    "            current_accuracy = accuracy_score(y.flatten(), y_pred.flatten())\n",
    "            train_acc.append(current_accuracy)\n",
    "\n",
    "    # Visualisation des résultats\n",
    "    fig, ax = plt.subplots(nrows=1, ncols=3, figsize = (18, 4))\n",
    "    ax[0].plot(train_loss, label='train loss')\n",
    "    ax[0].legend()\n",
    "    \n",
    "    ax[1].plot(train_acc, label='train acc')\n",
    "    ax[1].legend()\n",
    "    plt.show()\n",
    "\n",
    "    return parametres"
   ]
  },
  {
   "cell_type": "markdown",
   "metadata": {},
   "source": [
    "# Dataset"
   ]
  },
  {
   "cell_type": "code",
   "execution_count": 36,
   "metadata": {},
   "outputs": [
    {
     "name": "stdout",
     "output_type": "stream",
     "text": [
      "dimensions de X: (2, 100)\n",
      "dimensions de y: (1, 100)\n"
     ]
    },
    {
     "data": {
      "image/png": "[encoded data removed]",
      "text/plain": [
       "<Figure size 432x288 with 1 Axes>"
      ]
     },
     "metadata": {
      "needs_background": "light"
     },
     "output_type": "display_data"
    }
   ],
   "source": [
    "X, y = make_circles(n_samples=100, noise=0.1, factor=0.3, random_state=0)\n",
    "X = X.T\n",
    "y = y.reshape((1, y.shape[0]))\n",
    "\n",
    "print('dimensions de X:', X.shape)\n",
    "print('dimensions de y:', y.shape)\n",
    "\n",
    "plt.scatter(X[0, :], X[1, :], c=y, cmap='summer')\n",
    "plt.show()"
   ]
  },
  {
   "cell_type": "code",
   "execution_count": 40,
   "metadata": {},
   "outputs": [
    {
     "name": "stderr",
     "output_type": "stream",
     "text": [
      "100%|██████████| 1000/1000 [00:00<00:00, 2109.80it/s]\n"
     ]
    },
    {
     "data": {
      "image/png": "[encoded data removed]",
      "text/plain": [
       "<Figure size 1296x288 with 3 Axes>"
      ]
     },
     "metadata": {
      "needs_background": "light"
     },
     "output_type": "display_data"
    },
    {
     "data": {
      "text/plain": [
       "{'W1': array([[ 1.81769058,  0.48641301],\n",
       "        [ 1.23854714,  1.97607369],\n",
       "        [ 2.41536964, -1.36089636],\n",
       "        [ 0.7232829 , -0.44679784],\n",
       "        [-0.22550461,  1.2898364 ],\n",
       "        [-0.03428699,  1.56389879],\n",
       "        [ 1.31954647, -0.06193554],\n",
       "        [-0.4081929 ,  0.4620787 ],\n",
       "        [ 2.2642667 , -0.36059596],\n",
       "        [ 0.52789804, -1.41998815],\n",
       "        [-2.75202436,  0.54246999],\n",
       "        [ 1.17895459, -0.89855528],\n",
       "        [ 2.51122124, -1.60134548],\n",
       "        [ 0.20005794,  0.30584036],\n",
       "        [ 1.72207311,  1.75438163],\n",
       "        [ 0.60011246,  0.78271297],\n",
       "        [-1.02629484, -1.97146415],\n",
       "        [-0.90333154,  0.35033362],\n",
       "        [ 1.76974102,  1.13323525],\n",
       "        [-0.5297186 , -0.42666132],\n",
       "        [-1.11348528, -1.76118023],\n",
       "        [-1.74594485,  2.13337561],\n",
       "        [-0.0655784 , -0.17770286],\n",
       "        [-1.44435835,  1.13105741],\n",
       "        [-1.1282039 , -0.32320097],\n",
       "        [-0.92115319, -0.02479613],\n",
       "        [-0.35638325, -1.8246707 ],\n",
       "        [-0.18219544,  0.55065716],\n",
       "        [-0.68986733,  0.29907305],\n",
       "        [-0.31032263, -0.68035822],\n",
       "        [-0.64977706,  0.26939537],\n",
       "        [-1.07892263, -1.78217173]]),\n",
       " 'b1': array([[ 0.25479921],\n",
       "        [ 0.02088951],\n",
       "        [-1.51774815],\n",
       "        [ 0.4534193 ],\n",
       "        [-0.83889407],\n",
       "        [ 0.23433676],\n",
       "        [ 0.62632854],\n",
       "        [ 0.26972623],\n",
       "        [ 1.23533848],\n",
       "        [-0.92716323],\n",
       "        [ 0.72440873],\n",
       "        [-0.26516838],\n",
       "        [-1.11838589],\n",
       "        [-0.5929817 ],\n",
       "        [-0.51247653],\n",
       "        [ 0.2550186 ],\n",
       "        [-1.15203452],\n",
       "        [ 0.90689024],\n",
       "        [ 0.70199164],\n",
       "        [-1.33746238],\n",
       "        [ 1.04783865],\n",
       "        [ 1.90586571],\n",
       "        [ 1.21890603],\n",
       "        [-0.41388219],\n",
       "        [-1.06008925],\n",
       "        [ 0.94454789],\n",
       "        [ 0.17175194],\n",
       "        [ 1.27681028],\n",
       "        [ 0.20513998],\n",
       "        [ 0.87960443],\n",
       "        [ 0.28821877],\n",
       "        [ 0.63733236]]),\n",
       " 'W2': array([[ 0.01434587,  1.78788583,  0.1275798 , ..., -0.14683979,\n",
       "         -0.43307032,  1.85235809],\n",
       "        [ 0.67034563,  0.44878786, -1.06181404, ..., -0.95829519,\n",
       "         -1.00634681, -0.29775657],\n",
       "        [-0.48189474,  1.94201861,  0.95902757, ...,  1.5523636 ,\n",
       "         -1.28594955,  0.27392483],\n",
       "        ...,\n",
       "        [ 1.70883013, -0.78769058, -1.04977805, ...,  1.04336195,\n",
       "          3.16258395,  0.17772654],\n",
       "        [-1.34895924,  1.26513949, -0.30320898, ..., -0.80094966,\n",
       "         -1.04349998, -0.85805797],\n",
       "        [ 0.65739147,  0.01961463, -0.89356114, ...,  0.35144184,\n",
       "          1.29899033, -0.18695392]]),\n",
       " 'b2': array([[ 0.73455668],\n",
       "        [ 1.24193575],\n",
       "        [-0.99824889],\n",
       "        [-0.65137502],\n",
       "        [ 0.92807604],\n",
       "        [ 0.41474042],\n",
       "        [ 0.81735156],\n",
       "        [ 0.1001863 ],\n",
       "        [-0.20942062],\n",
       "        [-1.88429457],\n",
       "        [-1.15262304],\n",
       "        [ 0.19768728],\n",
       "        [ 0.71865505],\n",
       "        [ 0.45879894],\n",
       "        [-0.1121001 ],\n",
       "        [-0.27182536],\n",
       "        [ 0.35546443],\n",
       "        [ 0.34714132],\n",
       "        [ 1.41739444],\n",
       "        [ 0.09604196],\n",
       "        [-1.42723446],\n",
       "        [-1.26963733],\n",
       "        [ 1.5146698 ],\n",
       "        [-1.2791343 ],\n",
       "        [ 0.75209373],\n",
       "        [-0.30663399],\n",
       "        [-0.11822329],\n",
       "        [-0.05045408],\n",
       "        [ 1.34738014],\n",
       "        [-0.19964046],\n",
       "        [-0.03436375],\n",
       "        [-1.57308821]]),\n",
       " 'W3': array([[ 0.20669987,  0.53104987,  0.23914737, ..., -0.01477492,\n",
       "         -0.30047875, -0.35502104],\n",
       "        [-1.84193396, -0.1491671 ,  0.24661458, ...,  0.94543533,\n",
       "         -0.45413733,  0.14044065],\n",
       "        [ 0.65563835,  0.47679073, -1.18227136, ...,  0.41075627,\n",
       "          0.73277606, -0.48344018],\n",
       "        ...,\n",
       "        [ 0.35189632,  0.14769358, -1.01508422, ..., -0.59350945,\n",
       "          1.71088754,  1.44226814],\n",
       "        [ 0.09759472, -1.47341225, -2.82736628, ...,  0.68693997,\n",
       "         -0.73859341, -0.21884723],\n",
       "        [-2.39892902, -1.39065488, -0.11420043, ..., -0.93779207,\n",
       "          0.80963067,  1.05425852]]),\n",
       " 'b3': array([[ 1.09417628],\n",
       "        [-1.0435087 ],\n",
       "        [-0.24477435],\n",
       "        [ 0.99978183],\n",
       "        [-1.72318161],\n",
       "        [-0.51935165],\n",
       "        [-1.66312183],\n",
       "        [-0.94950334],\n",
       "        [-0.77845939],\n",
       "        [ 1.28549996],\n",
       "        [-0.30259268],\n",
       "        [-0.85904234],\n",
       "        [-1.16529951],\n",
       "        [-0.10637387],\n",
       "        [ 0.01888173],\n",
       "        [ 1.28786878],\n",
       "        [ 0.48418859],\n",
       "        [-1.44058707],\n",
       "        [-0.47340192],\n",
       "        [ 1.22557077],\n",
       "        [-0.61984807],\n",
       "        [ 1.78652651],\n",
       "        [-1.28359995],\n",
       "        [ 0.58783713],\n",
       "        [-0.87680526],\n",
       "        [-0.54218763],\n",
       "        [ 1.14621939],\n",
       "        [-0.12533863],\n",
       "        [ 0.81912054],\n",
       "        [ 0.49955041],\n",
       "        [ 0.91538802],\n",
       "        [-0.91492457]]),\n",
       " 'W4': array([[ 0.01123977,  0.55268524, -0.91224803,  1.5353553 , -0.72551856,\n",
       "         -0.28495029, -2.73765337, -2.85740886,  2.73588215,  0.41788821,\n",
       "         -0.22637555, -0.24190219,  1.31014406, -1.67536387,  1.48499857,\n",
       "         -0.2964143 , -0.36799691,  0.54669708,  2.58255737, -1.35884042,\n",
       "         -0.77048564, -1.85599577,  1.55620305, -0.30129512, -3.08449099,\n",
       "          1.38152198, -1.6650866 ,  1.01010123,  0.39897847,  0.45853362,\n",
       "         -0.90270688,  0.2730002 ]]),\n",
       " 'b4': array([[-1.43513198]])}"
      ]
     },
     "execution_count": 40,
     "metadata": {},
     "output_type": "execute_result"
    }
   ],
   "source": [
    "neural_network(X, y)"
   ]
  },
  {
   "cell_type": "markdown",
   "metadata": {},
   "source": [
    "### Test initialisation"
   ]
  },
  {
   "cell_type": "code",
   "execution_count": 38,
   "metadata": {},
   "outputs": [
    {
     "name": "stdout",
     "output_type": "stream",
     "text": [
      "W1 (32, 2)\n",
      "b1 (32, 1)\n",
      "W2 (32, 32)\n",
      "b2 (32, 1)\n",
      "W3 (1, 32)\n",
      "b3 (1, 1)\n"
     ]
    }
   ],
   "source": [
    "parametres = initialisation([2, 32, 32, 1])\n",
    "\n",
    "for key, val in parametres.items():\n",
    "    print(key, val.shape)"
   ]
  },
  {
   "cell_type": "markdown",
   "metadata": {},
   "source": [
    "### Test forward"
   ]
  },
  {
   "cell_type": "code",
   "execution_count": 39,
   "metadata": {},
   "outputs": [
    {
     "name": "stdout",
     "output_type": "stream",
     "text": [
      "A0 (2, 100)\n",
      "A1 (32, 100)\n",
      "A2 (32, 100)\n",
      "A3 (1, 100)\n"
     ]
    }
   ],
   "source": [
    "activations = forward_propagation(X, parametres)\n",
    "\n",
    "for key, val in activations.items():\n",
    "    print(key, val.shape)"
   ]
  },
  {
   "cell_type": "markdown",
   "metadata": {},
   "source": [
    "### Test backward"
   ]
  },
  {
   "cell_type": "code",
   "execution_count": 31,
   "metadata": {},
   "outputs": [
    {
     "name": "stdout",
     "output_type": "stream",
     "text": [
      "dW3 (1, 32)\n",
      "db3 (1, 1)\n",
      "dW2 (32, 32)\n",
      "db2 (32, 1)\n",
      "dW1 (32, 2)\n",
      "db1 (32, 1)\n"
     ]
    }
   ],
   "source": [
    "grad = back_propagation(y, activations, parametres)\n",
    "\n",
    "for key, val in grad.items():\n",
    "    print(key, val.shape)"
   ]
  },
  {
   "cell_type": "code",
   "execution_count": null,
   "metadata": {},
   "outputs": [],
   "source": []
  }
 ],
 "metadata": {
  "interpreter": {
   "hash": "038c04557dfd72b4d6039cb7951b93ffe7520921b6515cb88d8784deedfaf89f"
  },
  "kernelspec": {
   "display_name": "Python 3.7.9 ('base')",
   "language": "python",
   "name": "python3"
  },
  "language_info": {
   "codemirror_mode": {
    "name": "ipython",
    "version": 3
   },
   "file_extension": ".py",
   "mimetype": "text/x-python",
   "name": "python",
   "nbconvert_exporter": "python",
   "pygments_lexer": "ipython3",
   "version": "3.9.7"
  },
  "orig_nbformat": 4
 },
 "nbformat": 4,
 "nbformat_minor": 2
}
